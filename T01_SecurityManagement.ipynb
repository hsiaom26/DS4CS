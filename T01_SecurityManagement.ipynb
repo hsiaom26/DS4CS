{
  "nbformat": 4,
  "nbformat_minor": 0,
  "metadata": {
    "colab": {
      "name": "T01_SecurityManagement.ipynb",
      "provenance": [],
      "collapsed_sections": [],
      "authorship_tag": "ABX9TyP96h93DmVZ0W/x672ofXVZ",
      "include_colab_link": true
    },
    "kernelspec": {
      "name": "python3",
      "display_name": "Python 3"
    }
  },
  "cells": [
    {
      "cell_type": "markdown",
      "metadata": {
        "id": "view-in-github",
        "colab_type": "text"
      },
      "source": [
        "<a href=\"https://colab.research.google.com/github/hsiaom26/DS4CS/blob/master/T01_SecurityManagement.ipynb\" target=\"_parent\"><img src=\"https://colab.research.google.com/assets/colab-badge.svg\" alt=\"Open In Colab\"/></a>"
      ]
    },
    {
      "cell_type": "markdown",
      "metadata": {
        "id": "ytC5SsqaVZAw"
      },
      "source": [
        "# Security Management\n",
        "\n",
        "### The difinition of buzzwords\n",
        "* What is *secure*?\n",
        "  * CIA triad\n",
        "* What is *security*?\n",
        "  * AAA\n",
        "  * Controls\n",
        "* What is *assurance*?\n",
        "  * Auditing, Testing, and Monitoring\n",
        "  * Guarantee\n",
        "\n",
        "### When do we need *security*?\n",
        "* How to analyze *Risk*?\n",
        "* What are the two components of *Risk Assessment*?\n",
        "* How to measure them?\n",
        "* Can we ignore/accept risk?\n",
        "  * When and why? (e.g., availability)\n",
        "  * Cost v.s. Risk v.s. loss (tangible and intangible)\n",
        "  * Privacy v.s. Risk\n",
        "\n",
        "### What *Asset* we need to protect?\n",
        "* Conventional and digital assets\n",
        "* Asset Inventory\n",
        "* How to manage *Data Assets*?\n",
        "  * Creator, owner, collector, operator, manager\n",
        "  * Access control\n",
        "* Data Asset Lifecycle\n",
        "  * creation, approval, live, archived, deleted\n",
        "  * version control\n",
        "* Data Protection\n",
        "  * Data in transit\n",
        "  * Data in use\n",
        "  * Data at rest\n",
        "\n",
        "### Disater Recovery\n",
        "* What is my critial function?\n",
        "* *Recovery Point Objective* (RPO)\n",
        "* *Recovery Time Objective* (RTO)\n",
        "* Again, how to evaluate RPO and RTO?\n",
        "* Any other components in *Incident Response Plan*?\n",
        "\n",
        "### Any help?\n",
        "* guidance, policies, standards\n",
        "* regulations and laws\n",
        "* awareness, training\n",
        "* due care and due diligence\n",
        "* *ISO27000, NIST800, CISSP\n",
        "* *HIPAA, PCI DSS, GDPR\n",
        "\n",
        "### Additional Materials\n",
        "* https://en.wikipedia.org/wiki/Information_security\n",
        "* https://en.wikipedia.org/wiki/Disaster_recovery\n"
      ]
    }
  ]
}