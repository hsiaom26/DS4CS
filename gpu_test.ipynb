{
  "nbformat": 4,
  "nbformat_minor": 0,
  "metadata": {
    "colab": {
      "name": "gpu-test.ipynb",
      "provenance": [],
      "collapsed_sections": [],
      "include_colab_link": true
    },
    "kernelspec": {
      "name": "python3",
      "display_name": "Python 3"
    },
    "accelerator": "GPU"
  },
  "cells": [
    {
      "cell_type": "markdown",
      "metadata": {
        "id": "view-in-github",
        "colab_type": "text"
      },
      "source": [
        "<a href=\"https://colab.research.google.com/github/hsiaom26/DS4CS/blob/master/gpu_test.ipynb\" target=\"_parent\"><img src=\"https://colab.research.google.com/assets/colab-badge.svg\" alt=\"Open In Colab\"/></a>"
      ]
    },
    {
      "cell_type": "code",
      "metadata": {
        "id": "NwL3__XR945U"
      },
      "source": [
        "# Please try to copy this notebook to your own google drive.\n",
        "# You can leverage Google's cloud-based machine to execute the following codes.\n",
        "# Google provides several runtimes.\n",
        "\n",
        "# \"Runtime\" -> \"Change runtime type\"\n",
        "# Make sure you use \"Python 3\" because 2.x will not be maintained.\n",
        "# You may select \"GPU\" from the Hardware Accelerator drop-down.\n",
        "\n",
        "# The following codes demonstrate the time difference between using CPU and GPU.\n",
        "\n",
        "# https://www.tensorflow.org/guide/gpu"
      ],
      "execution_count": 1,
      "outputs": []
    },
    {
      "cell_type": "code",
      "metadata": {
        "colab": {
          "base_uri": "https://localhost:8080/"
        },
        "id": "UCV_VmZIRZe0",
        "outputId": "6aee1aa3-28c0-4535-ac30-83558c385ff2"
      },
      "source": [
        "import tensorflow as tf\r\n",
        "\r\n",
        "print(tf.__version__)"
      ],
      "execution_count": 2,
      "outputs": [
        {
          "output_type": "stream",
          "text": [
            "2.4.1\n"
          ],
          "name": "stdout"
        }
      ]
    },
    {
      "cell_type": "code",
      "metadata": {
        "id": "_20WjnMHj_L1",
        "colab": {
          "base_uri": "https://localhost:8080/"
        },
        "outputId": "738ab17e-2829-410b-a9a6-ce31b385e348"
      },
      "source": [
        "print(tf.config.list_physical_devices())\n",
        "print( tf.config.experimental.list_logical_devices())"
      ],
      "execution_count": 3,
      "outputs": [
        {
          "output_type": "stream",
          "text": [
            "[PhysicalDevice(name='/physical_device:CPU:0', device_type='CPU'), PhysicalDevice(name='/physical_device:GPU:0', device_type='GPU')]\n",
            "[LogicalDevice(name='/device:CPU:0', device_type='CPU'), LogicalDevice(name='/device:GPU:0', device_type='GPU')]\n"
          ],
          "name": "stdout"
        }
      ]
    },
    {
      "cell_type": "markdown",
      "metadata": {
        "id": "0e8l_mWsSGlr"
      },
      "source": [
        "\"/CPU:0\": The CPU of your machine.\r\n",
        "\r\n",
        "\"/GPU:0\": Short-hand notation for the first GPU of your machine that is visible to TensorFlow.\r\n",
        "\r\n",
        "If a TensorFlow operation has both CPU and GPU implementations, by default the GPU devices will be given priority when the operation is assigned to a device."
      ]
    },
    {
      "cell_type": "markdown",
      "metadata": {
        "id": "3bm0wG5jj_L9"
      },
      "source": [
        "### CPU vs GPU"
      ]
    },
    {
      "cell_type": "code",
      "metadata": {
        "id": "3-2_AwSkj_MA"
      },
      "source": [
        "# A simple function for performance testing\n",
        "\n",
        "import time\n",
        "\n",
        "def performanceTest(device_name, size):\n",
        "    # by using 'with' tf.device, we can explictly assign the computation task to\n",
        "    # a device, i.e., CPU or GPU\n",
        "    with tf.device(device_name):\n",
        "        W = tf.random.normal([size, size], name = 'W')\n",
        "        X = tf.random.normal([size, size], name = 'X')\n",
        "        mul = tf.matmul(W, X, name = 'mul') # <--- matmul() has both CPU and GPU ver.\n",
        "        sum_result = tf.reduce_sum(mul, name = 'sum')\n",
        "    \n",
        "    # time.time() returns the current time\n",
        "    startTime = time.time()\n",
        "\n",
        "    # To find out which devices your operations are assigned to,\n",
        "    # put tf.debugging.set_log_device_placement(True) at the begining.\n",
        "    # Enabling device placement logging to be printed.\n",
        "    tfconfig = tf.debugging.set_log_device_placement(True) \n",
        "    \n",
        "    sum_result # execution\n",
        "\n",
        "    # record end time\n",
        "    takeTimes = time.time() - startTime\n",
        "\n",
        "    print(device_name, \"size=\", size, \"Time:\", takeTimes)\n",
        "    return takeTimes"
      ],
      "execution_count": 4,
      "outputs": []
    },
    {
      "cell_type": "code",
      "metadata": {
        "scrolled": false,
        "id": "zHlyl2Arj_MD",
        "colab": {
          "base_uri": "https://localhost:8080/"
        },
        "outputId": "660722fb-ef53-47e9-c578-d1f52ba9ef3b"
      },
      "source": [
        "gpu_li = []\n",
        "cpu_li = []\n",
        "x_li = []\n",
        "\n",
        "# iteratively execute performanceTest() with different size of parameter\n",
        "for x in range(0, 4001, 500): \n",
        "    g = performanceTest(\"/GPU:0\", x) #  <---- check device name\n",
        "    c = performanceTest(\"/CPU:0\", x) # <---- check device name\n",
        "    x_li.append(x)\n",
        "    gpu_li.append(g)\n",
        "    cpu_li.append(c)"
      ],
      "execution_count": 5,
      "outputs": [
        {
          "output_type": "stream",
          "text": [
            "/GPU:0 size= 0 Time: 2.7418136596679688e-05\n",
            "/CPU:0 size= 0 Time: 6.67572021484375e-06\n",
            "/GPU:0 size= 500 Time: 5.245208740234375e-06\n",
            "/CPU:0 size= 500 Time: 7.62939453125e-06\n",
            "/GPU:0 size= 1000 Time: 5.0067901611328125e-06\n",
            "/CPU:0 size= 1000 Time: 8.106231689453125e-06\n",
            "/GPU:0 size= 1500 Time: 4.76837158203125e-06\n",
            "/CPU:0 size= 1500 Time: 1.2874603271484375e-05\n",
            "/GPU:0 size= 2000 Time: 6.67572021484375e-06\n",
            "/CPU:0 size= 2000 Time: 1.3828277587890625e-05\n",
            "/GPU:0 size= 2500 Time: 7.152557373046875e-06\n",
            "/CPU:0 size= 2500 Time: 1.5497207641601562e-05\n",
            "/GPU:0 size= 3000 Time: 7.3909759521484375e-06\n",
            "/CPU:0 size= 3000 Time: 1.33514404296875e-05\n",
            "/GPU:0 size= 3500 Time: 8.344650268554688e-06\n",
            "/CPU:0 size= 3500 Time: 1.5974044799804688e-05\n",
            "/GPU:0 size= 4000 Time: 8.344650268554688e-06\n",
            "/CPU:0 size= 4000 Time: 1.4781951904296875e-05\n"
          ],
          "name": "stdout"
        }
      ]
    },
    {
      "cell_type": "code",
      "metadata": {
        "id": "8Tygnx6Fj_MG",
        "colab": {
          "base_uri": "https://localhost:8080/",
          "height": 293
        },
        "outputId": "c7778995-ac5b-49f1-dfe9-b116e53d4242"
      },
      "source": [
        "%matplotlib inline\n",
        "import matplotlib.pyplot as plt\n",
        "\n",
        "plt.plot(x_li, gpu_li, label = 'GPU')\n",
        "plt.plot(x_li, cpu_li, label = 'CPU')\n",
        "plt.legend()"
      ],
      "execution_count": 6,
      "outputs": [
        {
          "output_type": "execute_result",
          "data": {
            "text/plain": [
              "<matplotlib.legend.Legend at 0x7fd327c7a2d0>"
            ]
          },
          "metadata": {
            "tags": []
          },
          "execution_count": 6
        },
        {
          "output_type": "display_data",
          "data": {
            "image/png": "[encoded data removed]",
            "text/plain": [
              "<Figure size 432x288 with 1 Axes>"
            ]
          },
          "metadata": {
            "tags": [],
            "needs_background": "light"
          }
        }
      ]
    }
  ]
}